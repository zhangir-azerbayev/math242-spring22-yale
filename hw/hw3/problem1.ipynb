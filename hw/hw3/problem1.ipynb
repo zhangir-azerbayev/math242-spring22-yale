{
 "cells": [
  {
   "cell_type": "markdown",
   "metadata": {},
   "source": [
    "# Problem 1"
   ]
  },
  {
   "cell_type": "code",
   "execution_count": 1,
   "metadata": {},
   "outputs": [],
   "source": [
    "import numpy as np\n",
    "import matplotlib.pyplot as plt"
   ]
  },
  {
   "cell_type": "markdown",
   "metadata": {},
   "source": [
    "## Part A\n",
    "Two reasonable test statistics are \n",
    "$$T_1 = \\frac{1}{n}\\sum_{i=1}^nX_i$$\n",
    "and \n",
    "$$T_2 = \\frac{1}{n}\\sum_{i=1}^n(X_i-6)^2$$\n",
    "where $n=6115$"
   ]
  },
  {
   "cell_type": "code",
   "execution_count": 2,
   "metadata": {},
   "outputs": [
    {
     "name": "stdout",
     "output_type": "stream",
     "text": [
      "T_1 sample value: 5.769419460343418\n",
      "T_2 sample value: 3.542436631234669\n"
     ]
    }
   ],
   "source": [
    "sample = np.array([7, 45, 181, 478, 829, 1112, 1343, 1033, \n",
    "                670, 286, 104, 24, 3])\n",
    "\n",
    "t1_sample = np.sum(np.arange(13)*sample)/6115\n",
    "\n",
    "t2_sample = np.sum(((np.arange(13)-6)**2) * sample)/6115\n",
    "\n",
    "print(f\"T_1 sample value: {t1_sample}\")\n",
    "print(f\"T_2 sample value: {t2_sample}\")"
   ]
  },
  {
   "cell_type": "markdown",
   "metadata": {},
   "source": [
    "## Part B"
   ]
  },
  {
   "cell_type": "code",
   "execution_count": 3,
   "metadata": {},
   "outputs": [],
   "source": [
    "null_samples = np.random.binomial(12, .5, (1000, 6115))"
   ]
  },
  {
   "cell_type": "markdown",
   "metadata": {},
   "source": [
    "The exterior of the red lines in the two following histograms is the rejection region for a two-sided $\\alpha=0.05$ significance test. The green line is the sample value of the test statistic"
   ]
  },
  {
   "cell_type": "code",
   "execution_count": 4,
   "metadata": {},
   "outputs": [
    {
     "data": {
      "image/png": "[encoded data removed]",
      "text/plain": [
       "<Figure size 432x288 with 1 Axes>"
      ]
     },
     "metadata": {
      "needs_background": "light"
     },
     "output_type": "display_data"
    },
    {
     "name": "stdout",
     "output_type": "stream",
     "text": [
      "p value is: 0.0\n"
     ]
    }
   ],
   "source": [
    "# Histogram and rejection region\n",
    "t1_null = np.sort(np.mean(null_samples, axis=1))\n",
    "plt.hist(t1_null)\n",
    "plt.title(\"T1 null distribution\")\n",
    "\n",
    "t1_lower_reject = (t1_null[25]+t1_null[24])/2\n",
    "plt.axvline(t1_lower_reject, color='r', linestyle='solid', linewidth=1)\n",
    "\n",
    "t1_upper_reject = (t1_null[975]+t1_null[974])/2\n",
    "plt.axvline(t1_upper_reject, color='r', linestyle='solid', linewidth=1)\n",
    "\n",
    "\n",
    "# p value computation\n",
    "plt.axvline(t1_sample, color='g', linestyle='solid', linewidth=1)\n",
    "insert_idx = np.searchsorted(t1_null, t1_sample)\n",
    "p_value = (min(insert_idx, 1000-insert_idx)*2)/1000\n",
    "plt.show()\n",
    "print(f\"p value is: {p_value}\")"
   ]
  },
  {
   "cell_type": "code",
   "execution_count": 5,
   "metadata": {},
   "outputs": [
    {
     "data": {
      "image/png": "[encoded data removed]",
      "text/plain": [
       "<Figure size 432x288 with 1 Axes>"
      ]
     },
     "metadata": {
      "needs_background": "light"
     },
     "output_type": "display_data"
    },
    {
     "name": "stdout",
     "output_type": "stream",
     "text": [
      "p value is: 0.0\n"
     ]
    }
   ],
   "source": [
    "# T2\n",
    "t2_null = np.sort(np.mean((null_samples - 6)**2, axis=1))\n",
    "plt.hist(t2_null)\n",
    "plt.title(\"T2 null distribution\")\n",
    "\n",
    "t2_lower_reject = (t2_null[25]+t2_null[24])/2\n",
    "plt.axvline(t2_lower_reject, color='r', linestyle='solid', linewidth=1)\n",
    "\n",
    "t2_upper_reject = (t2_null[975]+t2_null[974])/2\n",
    "plt.axvline(t2_upper_reject, color='r', linestyle='solid', linewidth=1)\n",
    "\n",
    "# p value computation\n",
    "plt.axvline(t2_sample, color='g', linestyle='solid', linewidth=1)\n",
    "insert_idx = np.searchsorted(t2_null, t2_sample)\n",
    "p_value = (min(insert_idx, 1000-insert_idx)*2)/1000\n",
    "plt.show()\n",
    "print(f\"p value is: {p_value}\")"
   ]
  },
  {
   "cell_type": "markdown",
   "metadata": {},
   "source": [
    "For both test statistics, we get approximate p-values of 0. This means in both cases we can reject $H_0$ at significance level $\\alpha=0.05$."
   ]
  },
  {
   "cell_type": "markdown",
   "metadata": {},
   "source": [
    "## Part C\n",
    "One reason the null hypothesis may not hold is because of selection bias introduced by only considering families that have 12 children. For example, suppose each family $i$ adopts the strategy of having children until they reach $n_i$ boys where $n_i$ is typically less than six. Then the families that reach twelve children will have less than 50% boys. "
   ]
  }
 ],
 "metadata": {
  "kernelspec": {
   "display_name": "Python 3 (ipykernel)",
   "language": "python",
   "name": "python3"
  },
  "language_info": {
   "codemirror_mode": {
    "name": "ipython",
    "version": 3
   },
   "file_extension": ".py",
   "mimetype": "text/x-python",
   "name": "python",
   "nbconvert_exporter": "python",
   "pygments_lexer": "ipython3",
   "version": "3.9.7"
  }
 },
 "nbformat": 4,
 "nbformat_minor": 4
}
