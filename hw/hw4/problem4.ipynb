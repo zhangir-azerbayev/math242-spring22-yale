{
 "cells": [
  {
   "cell_type": "markdown",
   "metadata": {},
   "source": [
    "# Problem 4"
   ]
  },
  {
   "cell_type": "code",
   "execution_count": 1,
   "metadata": {},
   "outputs": [],
   "source": [
    "import numpy as np \n",
    "import matplotlib.pyplot as plt\n",
    "from scipy.stats import norm, t, ttest_1samp, wilcoxon "
   ]
  },
  {
   "cell_type": "code",
   "execution_count": 2,
   "metadata": {},
   "outputs": [],
   "source": [
    "samples = np.random.standard_normal((10000, 100))"
   ]
  },
  {
   "cell_type": "code",
   "execution_count": 3,
   "metadata": {},
   "outputs": [
    {
     "name": "stdout",
     "output_type": "stream",
     "text": [
      "Likelihood ratio test rejected 0.0524 of times\n"
     ]
    }
   ],
   "source": [
    "# Likelihood ratio test\n",
    "\n",
    "means = np.mean(samples, axis=1)\n",
    "\n",
    "boundary = norm.ppf(.95) / np.sqrt(100)\n",
    "\n",
    "reject_ratio = np.sum(means > boundary)/10000\n",
    "\n",
    "print(f\"Likelihood ratio test rejected {reject_ratio} of times\")"
   ]
  },
  {
   "cell_type": "code",
   "execution_count": 4,
   "metadata": {},
   "outputs": [
    {
     "name": "stdout",
     "output_type": "stream",
     "text": [
      "t test rejected 0.0524 of times\n"
     ]
    }
   ],
   "source": [
    "# t-test (I can't for the life of me figure out what's wrong here)\n",
    "result = ttest_1samp(samples, 0, axis=1)\n",
    "\n",
    "tstat = result.statistic\n",
    "\n",
    "boundary = t.ppf(.95, 99)\n",
    "\n",
    "reject_ratio = np.sum(tstat>boundary)/10000\n",
    "print(f\"t test rejected {reject_ratio} of times\")"
   ]
  },
  {
   "cell_type": "code",
   "execution_count": 5,
   "metadata": {},
   "outputs": [
    {
     "name": "stdout",
     "output_type": "stream",
     "text": [
      "wilcoxon test rejected 0.0544 of times\n"
     ]
    }
   ],
   "source": [
    "# Wilcoxon signed rank test \n",
    "ws, ps = wilcoxon(samples, axis=1, alternative='greater')\n",
    "\n",
    "reject_ratio = np.sum(ps<.05)/10000\n",
    "print(f\"wilcoxon test rejected {reject_ratio} of times\")"
   ]
  },
  {
   "cell_type": "code",
   "execution_count": 6,
   "metadata": {},
   "outputs": [
    {
     "name": "stdout",
     "output_type": "stream",
     "text": [
      "sign test rejected 0.047 of times\n"
     ]
    }
   ],
   "source": [
    "# Signed rank test\n",
    "Ss = np.sum(samples>0, axis=1)\n",
    "\n",
    "mean = 100 * .5 \n",
    "std = np.sqrt(100 * .5 * .5)\n",
    "\n",
    "zs = (Ss-mean)/std\n",
    "reject_ratio = np.sum(zs > norm.ppf(.95))/10000\n",
    "\n",
    "print(f\"sign test rejected {reject_ratio} of times\")"
   ]
  },
  {
   "cell_type": "markdown",
   "metadata": {},
   "source": [
    "All tests have empirical significance of around .05"
   ]
  },
  {
   "cell_type": "markdown",
   "metadata": {},
   "source": [
    "## Powers of tests"
   ]
  },
  {
   "cell_type": "code",
   "execution_count": 7,
   "metadata": {},
   "outputs": [],
   "source": [
    "def get_lr_power(mean): \n",
    "    samples = np.random.standard_normal((10000, 100)) + mean \n",
    "    \n",
    "    means = np.mean(samples, axis=1)\n",
    "\n",
    "    boundary = norm.ppf(.95) / np.sqrt(100)\n",
    "\n",
    "    reject_ratio = np.sum(means > boundary)/10000\n",
    "    \n",
    "    return reject_ratio"
   ]
  },
  {
   "cell_type": "code",
   "execution_count": 8,
   "metadata": {},
   "outputs": [],
   "source": [
    "def get_t_power(mean): \n",
    "    samples = np.random.standard_normal((10000, 100)) + mean \n",
    "\n",
    "    result = ttest_1samp(samples, 0, axis=1)\n",
    "\n",
    "    tstat = result.statistic\n",
    "\n",
    "    boundary = t.ppf(.95, 99)\n",
    "\n",
    "    reject_ratio = np.sum(tstat>boundary)/10000\n",
    "    \n",
    "    return reject_ratio "
   ]
  },
  {
   "cell_type": "code",
   "execution_count": 9,
   "metadata": {},
   "outputs": [],
   "source": [
    "def get_wilcoxon_power(mean): \n",
    "    samples = np.random.standard_normal((10000, 100)) + mean \n",
    "\n",
    "    ws, ps = wilcoxon(samples, axis=1, alternative='greater')\n",
    "\n",
    "    reject_ratio = np.sum(ps<.05)/10000\n",
    "    \n",
    "    return reject_ratio"
   ]
  },
  {
   "cell_type": "code",
   "execution_count": 10,
   "metadata": {},
   "outputs": [],
   "source": [
    "def get_sign_power(mean): \n",
    "    samples = np.random.standard_normal((10000, 100)) + mean \n",
    "\n",
    "    Ss = np.sum(samples>0, axis=1)\n",
    "\n",
    "    mean = 100 * .5 \n",
    "    std = np.sqrt(100 * .5 * .5)\n",
    "\n",
    "    zs = (Ss-mean)/std\n",
    "    reject_ratio = np.sum(zs > norm.ppf(.95))/10000\n",
    "    \n",
    "    return reject_ratio"
   ]
  },
  {
   "cell_type": "markdown",
   "metadata": {},
   "source": [
    "## (B) The chart "
   ]
  },
  {
   "cell_type": "code",
   "execution_count": 11,
   "metadata": {},
   "outputs": [],
   "source": [
    "mus = [0.1, 0.2, 0.3, 0.4]\n",
    "lr = [get_lr_power(mu) for mu in mus]\n",
    "t = [get_t_power(mu) for mu in mus]\n",
    "wilc = [get_wilcoxon_power(mu) for mu in mus]\n",
    "sign = [get_sign_power(mu) for mu in mus]"
   ]
  },
  {
   "cell_type": "code",
   "execution_count": 24,
   "metadata": {},
   "outputs": [
    {
     "data": {
      "image/png": "[encoded data removed]",
      "text/plain": [
       "<Figure size 432x288 with 1 Axes>"
      ]
     },
     "metadata": {
      "needs_background": "light"
     },
     "output_type": "display_data"
    }
   ],
   "source": [
    "x_axis = np.arange(len(mus))\n",
    "\n",
    "plt.bar(x_axis-.15, lr, .1, label=\"Likelihood ratio\")\n",
    "plt.bar(x_axis-.05, t, .1, label=\"t test\")\n",
    "plt.bar(x_axis+.05, wilc, .1, label=\"wilcoxon\")\n",
    "plt.bar(x_axis+.15, sign, .1, label=\"sign test\")\n",
    "\n",
    "plt.xlabel(\"mu of H1\")\n",
    "plt.ylabel(\"power of test\")\n",
    "\n",
    "plt.legend()\n",
    "plt.show()"
   ]
  },
  {
   "cell_type": "markdown",
   "metadata": {},
   "source": [
    "## (C)\n",
    "The powers of the likelihood ratio test, t test, and wilcoxon test are close. The sign test has a much lower power than the other three. Your friend is wrong, since a test that makes greater distributional assumptions can have the advantage of being higher-powered. Our findings support Rice's conclusion. The signed rank test is almost as powerful as the t-test. "
   ]
  }
 ],
 "metadata": {
  "kernelspec": {
   "display_name": "Python 3 (ipykernel)",
   "language": "python",
   "name": "python3"
  },
  "language_info": {
   "codemirror_mode": {
    "name": "ipython",
    "version": 3
   },
   "file_extension": ".py",
   "mimetype": "text/x-python",
   "name": "python",
   "nbconvert_exporter": "python",
   "pygments_lexer": "ipython3",
   "version": "3.9.7"
  }
 },
 "nbformat": 4,
 "nbformat_minor": 4
}
