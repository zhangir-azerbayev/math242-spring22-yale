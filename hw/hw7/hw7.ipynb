{
 "cells": [
  {
   "cell_type": "markdown",
   "metadata": {},
   "source": [
    "## Problem 3 Part C"
   ]
  },
  {
   "cell_type": "code",
   "execution_count": 1,
   "metadata": {},
   "outputs": [],
   "source": [
    "import numpy as np\n",
    "from scipy.stats import norm"
   ]
  },
  {
   "cell_type": "code",
   "execution_count": 2,
   "metadata": {},
   "outputs": [
    {
     "data": {
      "text/plain": [
       "array([17, 10, 16, ..., 15,  8, 12])"
      ]
     },
     "execution_count": 2,
     "metadata": {},
     "output_type": "execute_result"
    }
   ],
   "source": [
    "num_trials = int(1e4)\n",
    "ps = [0.1, 0.3, 0.5]\n",
    "ns = [10, 40, 100]\n",
    "\n",
    "sims={}\n",
    "for p in ps: \n",
    "    sims[str(p)] = {}\n",
    "    for n in ns: \n",
    "        sims[str(p)][n] = np.random.binomial(n, p, (num_trials))\n",
    "        \n",
    "sims[\"0.3\"][40]"
   ]
  },
  {
   "cell_type": "code",
   "execution_count": 3,
   "metadata": {},
   "outputs": [
    {
     "name": "stdout",
     "output_type": "stream",
     "text": [
      "part A interval lower and upper:  (array([0.09060725, 0.09985905]), array([0.12939275, 0.14014095]))\n",
      "part B interval lowers and uppers (array([0.09207937, 0.10129926]), array([0.1309055 , 0.14160908]))\n"
     ]
    }
   ],
   "source": [
    "def get_part_a_interval(phats, p, n): \n",
    "    z = norm.ppf(1-0.025)\n",
    "    \n",
    "    delta = np.sqrt(phats*(1-phats)/n) * z\n",
    "    \n",
    "    return phats - delta, phats + delta\n",
    "\n",
    "print(\"part A interval lower and upper: \", get_part_a_interval(np.array([0.11, 0.12]), 0.115, 1000))\n",
    "\n",
    "def get_part_b_interval(phats, p, n): \n",
    "    z = norm.ppf(1-0.025)\n",
    "    \n",
    "    center = phats + z**2 / (2*n)\n",
    "    \n",
    "    delta = z * np.sqrt(phats*(1-phats)/n + z**2/(4*n**2))\n",
    "    \n",
    "    normalizer = 1 + z**2/n \n",
    "    \n",
    "    return (center-delta)/normalizer, (center+delta)/normalizer\n",
    "\n",
    "print(\"part B interval lowers and uppers\", get_part_b_interval(np.array([0.11, 0.12]), 0.115, 1000))"
   ]
  },
  {
   "cell_type": "code",
   "execution_count": 4,
   "metadata": {},
   "outputs": [],
   "source": [
    "def report_coverage(sims, p, n, get_interval): \n",
    "    phats = sims / n\n",
    "    lower, upper = get_interval(phats, p, n)\n",
    "        \n",
    "    covered = np.logical_and(p > lower, p < upper).astype(int)\n",
    "    \n",
    "    return np.mean(covered)"
   ]
  },
  {
   "cell_type": "code",
   "execution_count": 5,
   "metadata": {},
   "outputs": [
    {
     "name": "stdout",
     "output_type": "stream",
     "text": [
      "n=10, p=0.1, part a coverage: 0.6427\n",
      "n=10, p=0.1, part b coverage: 0.9304\n",
      "n=40, p=0.1, part a coverage: 0.9129\n",
      "n=40, p=0.1, part b coverage: 0.9381\n",
      "n=100, p=0.1, part a coverage: 0.9314\n",
      "n=100, p=0.1, part b coverage: 0.9348\n",
      "n=10, p=0.3, part a coverage: 0.8462\n",
      "n=10, p=0.3, part b coverage: 0.9266\n",
      "n=40, p=0.3, part a coverage: 0.93\n",
      "n=40, p=0.3, part b coverage: 0.9461\n",
      "n=100, p=0.3, part a coverage: 0.9474\n",
      "n=100, p=0.3, part b coverage: 0.9356\n",
      "n=10, p=0.5, part a coverage: 0.8931\n",
      "n=10, p=0.5, part b coverage: 0.9782\n",
      "n=40, p=0.5, part a coverage: 0.9232\n",
      "n=40, p=0.5, part b coverage: 0.9647\n",
      "n=100, p=0.5, part a coverage: 0.9462\n",
      "n=100, p=0.5, part b coverage: 0.9462\n"
     ]
    }
   ],
   "source": [
    "for p in ps: \n",
    "    for n in ns: \n",
    "        a_coverage = report_coverage(sims[str(p)][n], p, n, get_part_a_interval)\n",
    "        print(f\"n={n}, p={p}, part a coverage: {a_coverage}\",)\n",
    "        b_coverage = report_coverage(sims[str(p)][n], p, n, get_part_b_interval)\n",
    "        print(f\"n={n}, p={p}, part b coverage: {b_coverage}\",)"
   ]
  },
  {
   "cell_type": "markdown",
   "metadata": {},
   "source": [
    "The test from part (B) yields much better coverage for small values of n, especially when p is small "
   ]
  },
  {
   "cell_type": "markdown",
   "metadata": {},
   "source": [
    "# Problem 4"
   ]
  },
  {
   "cell_type": "code",
   "execution_count": 6,
   "metadata": {},
   "outputs": [],
   "source": [
    "from scipy.special import gamma, digamma, polygamma\n",
    "from matplotlib import pyplot as plt\n",
    "from tqdm import tqdm"
   ]
  },
  {
   "cell_type": "markdown",
   "metadata": {},
   "source": [
    "## Part A"
   ]
  },
  {
   "cell_type": "markdown",
   "metadata": {},
   "source": [
    "Below we define the function $f(\\alpha)$ from lecture 13. This function has the property that $f(\\alpha)=0$ iff $\\alpha$ is the MLE. We also define its derivative\n",
    "\n",
    "$$f'(\\alpha) = \\frac{1}{\\alpha} - \\frac{\\Gamma''(\\alpha)\\Gamma(\\alpha)-\\Gamma'(\\alpha)^2}{\\Gamma(\\alpha)^2}$$\n",
    "\n",
    "Note that `polygamma(1, z)` is the trigamma function."
   ]
  },
  {
   "cell_type": "code",
   "execution_count": 7,
   "metadata": {},
   "outputs": [],
   "source": [
    "def f(alpha, x): \n",
    "    term_1 = np.log(alpha)\n",
    "    term_2 = -digamma(alpha)\n",
    "    term_3 = -np.log(np.mean(x))\n",
    "    term_4 = np.mean(np.log(x))\n",
    "    return term_1 + term_2 + term_3 + term_4\n",
    "    \n",
    "def f_prime(alpha): \n",
    "    return 1/alpha - polygamma(1, alpha)"
   ]
  },
  {
   "cell_type": "code",
   "execution_count": 8,
   "metadata": {},
   "outputs": [],
   "source": [
    "def update(alpha, x): \n",
    "    return max(alpha - f(alpha, x)/f_prime(alpha), 1e-10)"
   ]
  },
  {
   "cell_type": "markdown",
   "metadata": {},
   "source": [
    "## Part B"
   ]
  },
  {
   "cell_type": "code",
   "execution_count": 9,
   "metadata": {},
   "outputs": [
    {
     "name": "stderr",
     "output_type": "stream",
     "text": [
      "100%|████████████████████████████████████████████████| 5000/5000 [00:19<00:00, 259.54it/s]\n"
     ]
    },
    {
     "name": "stdout",
     "output_type": "stream",
     "text": [
      "alpha mean: 1.0053403088002046\n",
      "alpha variance: 0.003136007404175372\n"
     ]
    },
    {
     "data": {
      "image/png": "[encoded data removed]",
      "text/plain": [
       "<Figure size 432x288 with 1 Axes>"
      ]
     },
     "metadata": {
      "needs_background": "light"
     },
     "output_type": "display_data"
    },
    {
     "name": "stdout",
     "output_type": "stream",
     "text": [
      "beta mean: 2.014524881226936\n",
      "beta variance: 0.020349896243377113\n"
     ]
    },
    {
     "data": {
      "image/png": "[encoded data removed]",
      "text/plain": [
       "<Figure size 432x288 with 1 Axes>"
      ]
     },
     "metadata": {
      "needs_background": "light"
     },
     "output_type": "display_data"
    },
    {
     "name": "stdout",
     "output_type": "stream",
     "text": [
      "alpha and beta covariance: 0.006217366169198483\n"
     ]
    }
   ],
   "source": [
    "# numpy's gamma distribution takes shape and scale parameters, \n",
    "# rather than shape and rate.\n",
    "alphas = []\n",
    "betas = []\n",
    "for _ in tqdm(range(5000)):\n",
    "    x = np.random.gamma(1, 1/2, (500))\n",
    "    x_bar = np.mean(x)\n",
    "    alpha_init = x_bar**2 / np.mean((x-x_bar)**2)\n",
    "    alpha = alpha_init\n",
    "    for _ in range(100): \n",
    "        alpha = update(alpha, x)\n",
    "    alphas.append(alpha)\n",
    "    betas.append(alpha/x_bar)\n",
    "        \n",
    "\n",
    "print(f\"alpha mean: {np.mean(alphas)}\")\n",
    "print(f\"alpha variance: {np.var(alphas)}\")\n",
    "plt.cla()\n",
    "plt.hist(alphas)\n",
    "plt.title(\"alphas histogram\")\n",
    "plt.show()\n",
    "print(f\"beta mean: {np.mean(betas)}\")\n",
    "print(f\"beta variance: {np.var(betas)}\")\n",
    "plt.hist(betas)\n",
    "plt.title(\"betas histogram\")\n",
    "plt.show()\n",
    "print(f\"alpha and beta covariance: {np.cov(np.stack((alphas, betas)))[0,1]}\")"
   ]
  },
  {
   "cell_type": "markdown",
   "metadata": {},
   "source": [
    "## Part C\n",
    "The value of $\\frac{1}{n}I(1, 2)^{-1}$ is"
   ]
  },
  {
   "cell_type": "code",
   "execution_count": 10,
   "metadata": {},
   "outputs": [
    {
     "name": "stdout",
     "output_type": "stream",
     "text": [
      "[[0.00310109 0.00620218]\n",
      " [0.00620218 0.02040437]]\n"
     ]
    }
   ],
   "source": [
    "alpha = 1\n",
    "beta = 2\n",
    "constant = 1/500 * 1/(alpha*polygamma(1,alpha)-1) \n",
    "mat = np.array([[alpha, beta], [beta, beta**2*polygamma(1, alpha)]])\n",
    "cov_matrix = constant * mat\n",
    "print(cov_matrix)"
   ]
  },
  {
   "cell_type": "markdown",
   "metadata": {},
   "source": [
    "Our simulations very closely match the approximate distribution of $\\mathcal{N}((1, 2), \\frac{1}{n}I(1,2)^{-1})$"
   ]
  }
 ],
 "metadata": {
  "kernelspec": {
   "display_name": "Python 3 (ipykernel)",
   "language": "python",
   "name": "python3"
  },
  "language_info": {
   "codemirror_mode": {
    "name": "ipython",
    "version": 3
   },
   "file_extension": ".py",
   "mimetype": "text/x-python",
   "name": "python",
   "nbconvert_exporter": "python",
   "pygments_lexer": "ipython3",
   "version": "3.9.7"
  }
 },
 "nbformat": 4,
 "nbformat_minor": 4
}
